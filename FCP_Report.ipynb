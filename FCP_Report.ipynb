{
 "cells": [
  {
   "cell_type": "markdown",
   "id": "09aca341",
   "metadata": {},
   "source": [
    "# Office Covid Simulation"
   ]
  },
  {
   "cell_type": "markdown",
   "id": "14e13b12",
   "metadata": {},
   "source": [
    "This project simulates the spread of new COVID-19 variant with an instant incubation period; such that people become infectious as soon as they have been infected. Through use of a GUI or a text file input, users are able to alter the initial conditions of the spread such as mask adherence of the population, number of initially infected people, and how transmissible the virus is. An animated gif of the simulation is outputted as well as each frame as a separate image."
   ]
  },
  {
   "cell_type": "markdown",
   "id": "266a9272",
   "metadata": {},
   "source": []
  },
  {
   "cell_type": "markdown",
   "id": "35a5e7f8",
   "metadata": {},
   "source": [
    "## User Interface"
   ]
  },
  {
   "cell_type": "markdown",
   "id": "353b7d37",
   "metadata": {},
   "source": [
    "<img src=\"Report_graphics/GUI_startup.png\" width=600 height=600 />"
   ]
  },
  {
   "cell_type": "markdown",
   "id": "dcbaaf7e",
   "metadata": {},
   "source": [
    "When running "
   ]
  },
  {
   "cell_type": "code",
   "execution_count": null,
   "id": "05a8f337",
   "metadata": {},
   "outputs": [],
   "source": []
  }
 ],
 "metadata": {
  "kernelspec": {
   "display_name": "Python 3",
   "language": "python",
   "name": "python3"
  },
  "language_info": {
   "codemirror_mode": {
    "name": "ipython",
    "version": 3
   },
   "file_extension": ".py",
   "mimetype": "text/x-python",
   "name": "python",
   "nbconvert_exporter": "python",
   "pygments_lexer": "ipython3",
   "version": "3.9.1"
  }
 },
 "nbformat": 4,
 "nbformat_minor": 5
}
